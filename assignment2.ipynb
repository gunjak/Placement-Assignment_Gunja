{
  "nbformat": 4,
  "nbformat_minor": 0,
  "metadata": {
    "colab": {
      "provenance": [],
      "authorship_tag": "ABX9TyMZMYt1OqT+mg48IohxVNZF",
      "include_colab_link": true
    },
    "kernelspec": {
      "name": "python3",
      "display_name": "Python 3"
    },
    "language_info": {
      "name": "python"
    }
  },
  "cells": [
    {
      "cell_type": "markdown",
      "metadata": {
        "id": "view-in-github",
        "colab_type": "text"
      },
      "source": [
        "<a href=\"https://colab.research.google.com/github/gunjak/Placement-Assignment_Gunja/blob/main/assignment2.ipynb\" target=\"_parent\"><img src=\"https://colab.research.google.com/assets/colab-badge.svg\" alt=\"Open In Colab\"/></a>"
      ]
    },
    {
      "cell_type": "code",
      "execution_count": 3,
      "metadata": {
        "colab": {
          "base_uri": "https://localhost:8080/"
        },
        "id": "w3Fb2TLiaKX5",
        "outputId": "e15c8b38-2551-4775-e313-6fac51484585"
      },
      "outputs": [
        {
          "output_type": "stream",
          "name": "stdout",
          "text": [
            "Mean: 20.0\n"
          ]
        }
      ],
      "source": [
        "def calculate_mean(numbers:list)->float:\n",
        "    try:\n",
        "      total = sum(numbers)\n",
        "      count = len(numbers)\n",
        "      mean = total / count\n",
        "      return mean\n",
        "    except:\n",
        "      print('error value')\n",
        "data = [10, 15, 20, 25, 30]\n",
        "mean_value = calculate_mean(data)\n",
        "print(\"Mean:\", mean_value)"
      ]
    },
    {
      "cell_type": "code",
      "source": [],
      "metadata": {
        "id": "h52mJKqka8Wt"
      },
      "execution_count": null,
      "outputs": []
    }
  ]
}