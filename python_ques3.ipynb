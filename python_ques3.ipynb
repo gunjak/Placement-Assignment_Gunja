{
  "nbformat": 4,
  "nbformat_minor": 0,
  "metadata": {
    "colab": {
      "provenance": [],
      "authorship_tag": "ABX9TyPnU0BaqcVwieoj9JKtt3gK",
      "include_colab_link": true
    },
    "kernelspec": {
      "name": "python3",
      "display_name": "Python 3"
    },
    "language_info": {
      "name": "python"
    }
  },
  "cells": [
    {
      "cell_type": "markdown",
      "metadata": {
        "id": "view-in-github",
        "colab_type": "text"
      },
      "source": [
        "<a href=\"https://colab.research.google.com/github/gunjak/Placement-Assignment_Gunja/blob/main/python_ques3.ipynb\" target=\"_parent\"><img src=\"https://colab.research.google.com/assets/colab-badge.svg\" alt=\"Open In Colab\"/></a>"
      ]
    },
    {
      "cell_type": "code",
      "execution_count": 3,
      "metadata": {
        "colab": {
          "base_uri": "https://localhost:8080/",
          "height": 35
        },
        "id": "TrjD4aqUvZ-0",
        "outputId": "39e74fb9-6c44-4e96-9232-5e55eafc0dfa"
      },
      "outputs": [
        {
          "output_type": "execute_result",
          "data": {
            "text/plain": [
              "'saved to data.csv'"
            ],
            "application/vnd.google.colaboratory.intrinsic+json": {
              "type": "string"
            }
          },
          "metadata": {},
          "execution_count": 3
        }
      ],
      "source": [
        "# python 3\n",
        "import pandas as pd\n",
        "from json import loads,dumps\n",
        "def read_json(link,to_file):\n",
        "  try:\n",
        "    df=pd.read_json(link)\n",
        "    j=df.to_json()\n",
        "    j=loads(j)\n",
        "    df=pd.DataFrame.from_records(j['pokemon']).T.reset_index()\n",
        "    df.drop(columns=['index'],inplace=True)\n",
        "    df.to_csv(f'{to_file}.csv',index=False)\n",
        "    return f'saved to {to_file}.csv'\n",
        "  except:\n",
        "    print('error')\n",
        "\n",
        "read_json('https://raw.githubusercontent.com/Biuni/PokemonGO-Pokedex/master/pokedex.json','data')"
      ]
    }
  ]
}