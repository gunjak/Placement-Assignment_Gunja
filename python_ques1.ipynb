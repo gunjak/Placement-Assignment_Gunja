{
  "nbformat": 4,
  "nbformat_minor": 0,
  "metadata": {
    "colab": {
      "provenance": [],
      "authorship_tag": "ABX9TyOyJFddw7ff38zobS4Xn6/c",
      "include_colab_link": true
    },
    "kernelspec": {
      "name": "python3",
      "display_name": "Python 3"
    },
    "language_info": {
      "name": "python"
    }
  },
  "cells": [
    {
      "cell_type": "markdown",
      "metadata": {
        "id": "view-in-github",
        "colab_type": "text"
      },
      "source": [
        "<a href=\"https://colab.research.google.com/github/gunjak/Placement-Assignment_Gunja/blob/main/python_ques1.ipynb\" target=\"_parent\"><img src=\"https://colab.research.google.com/assets/colab-badge.svg\" alt=\"Open In Colab\"/></a>"
      ]
    },
    {
      "cell_type": "code",
      "execution_count": 1,
      "metadata": {
        "colab": {
          "base_uri": "https://localhost:8080/"
        },
        "id": "7PgvGhXrvJfR",
        "outputId": "babdaac6-32e1-4af4-9c43-ee385f5881f6"
      },
      "outputs": [
        {
          "output_type": "stream",
          "name": "stdout",
          "text": [
            "5\n",
            "7\n"
          ]
        }
      ],
      "source": [
        "#Python 1\n",
        "from collections import Counter\n",
        "\n",
        "def fun(sen:str)->int:\n",
        "  try:\n",
        "    sen_list=sen.split(' ')\n",
        "    dic=Counter(sen_list)\n",
        "    max_value=max(dic.values())\n",
        "    list_max_word=[]\n",
        "    for i in dic.keys():\n",
        "      if dic[i]==max_value:\n",
        "        list_max_word.append(i)\n",
        "    max_val=0\n",
        "    for word in list_max_word:\n",
        "      if len(word)>max_val:\n",
        "        max_val=len(word)\n",
        "    return max_val\n",
        "  except:\n",
        "    print('error')\n",
        "    \n",
        "# Test Case 1\n",
        "print(fun('write write write all the number from from from 1 to 100'))\n",
        "# Test Case 2\n",
        "print(fun('An apple in a day keep doctors away .'))"
      ]
    }
  ]
}