{
  "nbformat": 4,
  "nbformat_minor": 0,
  "metadata": {
    "colab": {
      "provenance": [],
      "authorship_tag": "ABX9TyNplHbFdeuA03wAMXg7oO6F",
      "include_colab_link": true
    },
    "kernelspec": {
      "name": "python3",
      "display_name": "Python 3"
    },
    "language_info": {
      "name": "python"
    }
  },
  "cells": [
    {
      "cell_type": "markdown",
      "metadata": {
        "id": "view-in-github",
        "colab_type": "text"
      },
      "source": [
        "<a href=\"https://colab.research.google.com/github/gunjak/Placement-Assignment_Gunja/blob/main/python_ques1.ipynb\" target=\"_parent\"><img src=\"https://colab.research.google.com/assets/colab-badge.svg\" alt=\"Open In Colab\"/></a>"
      ]
    },
    {
      "cell_type": "code",
      "execution_count": 7,
      "metadata": {
        "colab": {
          "base_uri": "https://localhost:8080/"
        },
        "id": "7PgvGhXrvJfR",
        "outputId": "bb44cd55-da78-4582-ee6c-cf6485328332"
      },
      "outputs": [
        {
          "output_type": "stream",
          "name": "stderr",
          "text": [
            "[nltk_data] Downloading package averaged_perceptron_tagger to\n",
            "[nltk_data]     /root/nltk_data...\n",
            "[nltk_data]   Unzipping taggers/averaged_perceptron_tagger.zip.\n",
            "[nltk_data] Downloading package punkt to /root/nltk_data...\n",
            "[nltk_data]   Package punkt is already up-to-date!\n"
          ]
        }
      ],
      "source": [
        "#Python 10\n",
        "import nltk\n",
        "from nltk.tokenize import word_tokenize\n",
        "from nltk.tag import pos_tag_sents\n",
        "nltk.download('averaged_perceptron_tagger')\n",
        "nltk.download('punkt')\n",
        "def count_POS(sent:str):\n",
        "  try:\n",
        "    dic={'nouns':0,'pronouns':0,'adjectives':0,'verbs':0}\n",
        "    tokens = nltk.word_tokenize(sent)\n",
        "    print(1)\n",
        "    for i in nltk.pos_tag(tokens):\n",
        "      if i[1][:2]=='NN':\n",
        "        dic['nouns']+=1\n",
        "      elif i[1][:2]=='PR':\n",
        "        dic['pronouns']+=1\n",
        "      elif  i[1][:2]=='JJ':\n",
        "        dic['adjectives']+=1\n",
        "      elif i[1][:2]=='VB':\n",
        "        dic['verbs']+=1\n",
        "    return dic\n",
        "  except:\n",
        "    print('error')\n",
        "\n"
      ]
    },
    {
      "cell_type": "code",
      "source": [
        "count_POS('He was a good perosn')"
      ],
      "metadata": {
        "colab": {
          "base_uri": "https://localhost:8080/"
        },
        "id": "YC7BwqblfsGE",
        "outputId": "c620f632-8429-465a-d752-3b1742462805"
      },
      "execution_count": 8,
      "outputs": [
        {
          "output_type": "stream",
          "name": "stdout",
          "text": [
            "1\n"
          ]
        },
        {
          "output_type": "execute_result",
          "data": {
            "text/plain": [
              "{'nouns': 1, 'pronouns': 1, 'adjectives': 1, 'verbs': 1}"
            ]
          },
          "metadata": {},
          "execution_count": 8
        }
      ]
    },
    {
      "cell_type": "code",
      "source": [
        "count_POS('I am aspire to be a scientist')"
      ],
      "metadata": {
        "id": "lA21xPkRfDye",
        "colab": {
          "base_uri": "https://localhost:8080/"
        },
        "outputId": "cbaeda32-0c14-4fa7-9394-f7697e9db401"
      },
      "execution_count": 9,
      "outputs": [
        {
          "output_type": "stream",
          "name": "stdout",
          "text": [
            "1\n"
          ]
        },
        {
          "output_type": "execute_result",
          "data": {
            "text/plain": [
              "{'nouns': 1, 'pronouns': 1, 'adjectives': 0, 'verbs': 2}"
            ]
          },
          "metadata": {},
          "execution_count": 9
        }
      ]
    }
  ]
}