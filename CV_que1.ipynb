{
  "nbformat": 4,
  "nbformat_minor": 0,
  "metadata": {
    "colab": {
      "provenance": [],
      "gpuType": "T4",
      "mount_file_id": "1nHlvUdc9NvUiwwX2lr_qJiO5oOhlm98o",
      "authorship_tag": "ABX9TyMhBFaFuib3E3w5GcMtzSvy",
      "include_colab_link": true
    },
    "kernelspec": {
      "name": "python3",
      "display_name": "Python 3"
    },
    "language_info": {
      "name": "python"
    },
    "accelerator": "GPU",
    "widgets": {
      "application/vnd.jupyter.widget-state+json": {
        "8309db8fe2f2460e85916c1a6e99ed5c": {
          "model_module": "@jupyter-widgets/controls",
          "model_name": "HBoxModel",
          "model_module_version": "1.5.0",
          "state": {
            "_dom_classes": [],
            "_model_module": "@jupyter-widgets/controls",
            "_model_module_version": "1.5.0",
            "_model_name": "HBoxModel",
            "_view_count": null,
            "_view_module": "@jupyter-widgets/controls",
            "_view_module_version": "1.5.0",
            "_view_name": "HBoxView",
            "box_style": "",
            "children": [
              "IPY_MODEL_6ba19a51215b4f158b98814c3d894099",
              "IPY_MODEL_df1f6751d49345bc9ae31b763f86eea3",
              "IPY_MODEL_671a15f4cf1e4fdb84982ef49e956bdd"
            ],
            "layout": "IPY_MODEL_4a71804d3f344b78b3c7450c4abf3542"
          }
        },
        "6ba19a51215b4f158b98814c3d894099": {
          "model_module": "@jupyter-widgets/controls",
          "model_name": "HTMLModel",
          "model_module_version": "1.5.0",
          "state": {
            "_dom_classes": [],
            "_model_module": "@jupyter-widgets/controls",
            "_model_module_version": "1.5.0",
            "_model_name": "HTMLModel",
            "_view_count": null,
            "_view_module": "@jupyter-widgets/controls",
            "_view_module_version": "1.5.0",
            "_view_name": "HTMLView",
            "description": "",
            "description_tooltip": null,
            "layout": "IPY_MODEL_1afb904364414334b9b98876779098ed",
            "placeholder": "​",
            "style": "IPY_MODEL_4dd8d9f2f61c4e988c002de3e5fdaee3",
            "value": "100%"
          }
        },
        "df1f6751d49345bc9ae31b763f86eea3": {
          "model_module": "@jupyter-widgets/controls",
          "model_name": "FloatProgressModel",
          "model_module_version": "1.5.0",
          "state": {
            "_dom_classes": [],
            "_model_module": "@jupyter-widgets/controls",
            "_model_module_version": "1.5.0",
            "_model_name": "FloatProgressModel",
            "_view_count": null,
            "_view_module": "@jupyter-widgets/controls",
            "_view_module_version": "1.5.0",
            "_view_name": "ProgressView",
            "bar_style": "success",
            "description": "",
            "description_tooltip": null,
            "layout": "IPY_MODEL_1a14043d3c6e4fb6855d45c8e75b3b0e",
            "max": 10,
            "min": 0,
            "orientation": "horizontal",
            "style": "IPY_MODEL_fd038d56a7d04516a4ded5f35738fc28",
            "value": 10
          }
        },
        "671a15f4cf1e4fdb84982ef49e956bdd": {
          "model_module": "@jupyter-widgets/controls",
          "model_name": "HTMLModel",
          "model_module_version": "1.5.0",
          "state": {
            "_dom_classes": [],
            "_model_module": "@jupyter-widgets/controls",
            "_model_module_version": "1.5.0",
            "_model_name": "HTMLModel",
            "_view_count": null,
            "_view_module": "@jupyter-widgets/controls",
            "_view_module_version": "1.5.0",
            "_view_name": "HTMLView",
            "description": "",
            "description_tooltip": null,
            "layout": "IPY_MODEL_a7566fce58d74cc3ba6bfdf316071c44",
            "placeholder": "​",
            "style": "IPY_MODEL_5a5bd60ebe934c10b79714f0573d5eca",
            "value": " 10/10 [04:51&lt;00:00, 27.93s/it]"
          }
        },
        "4a71804d3f344b78b3c7450c4abf3542": {
          "model_module": "@jupyter-widgets/base",
          "model_name": "LayoutModel",
          "model_module_version": "1.2.0",
          "state": {
            "_model_module": "@jupyter-widgets/base",
            "_model_module_version": "1.2.0",
            "_model_name": "LayoutModel",
            "_view_count": null,
            "_view_module": "@jupyter-widgets/base",
            "_view_module_version": "1.2.0",
            "_view_name": "LayoutView",
            "align_content": null,
            "align_items": null,
            "align_self": null,
            "border": null,
            "bottom": null,
            "display": null,
            "flex": null,
            "flex_flow": null,
            "grid_area": null,
            "grid_auto_columns": null,
            "grid_auto_flow": null,
            "grid_auto_rows": null,
            "grid_column": null,
            "grid_gap": null,
            "grid_row": null,
            "grid_template_areas": null,
            "grid_template_columns": null,
            "grid_template_rows": null,
            "height": null,
            "justify_content": null,
            "justify_items": null,
            "left": null,
            "margin": null,
            "max_height": null,
            "max_width": null,
            "min_height": null,
            "min_width": null,
            "object_fit": null,
            "object_position": null,
            "order": null,
            "overflow": null,
            "overflow_x": null,
            "overflow_y": null,
            "padding": null,
            "right": null,
            "top": null,
            "visibility": null,
            "width": null
          }
        },
        "1afb904364414334b9b98876779098ed": {
          "model_module": "@jupyter-widgets/base",
          "model_name": "LayoutModel",
          "model_module_version": "1.2.0",
          "state": {
            "_model_module": "@jupyter-widgets/base",
            "_model_module_version": "1.2.0",
            "_model_name": "LayoutModel",
            "_view_count": null,
            "_view_module": "@jupyter-widgets/base",
            "_view_module_version": "1.2.0",
            "_view_name": "LayoutView",
            "align_content": null,
            "align_items": null,
            "align_self": null,
            "border": null,
            "bottom": null,
            "display": null,
            "flex": null,
            "flex_flow": null,
            "grid_area": null,
            "grid_auto_columns": null,
            "grid_auto_flow": null,
            "grid_auto_rows": null,
            "grid_column": null,
            "grid_gap": null,
            "grid_row": null,
            "grid_template_areas": null,
            "grid_template_columns": null,
            "grid_template_rows": null,
            "height": null,
            "justify_content": null,
            "justify_items": null,
            "left": null,
            "margin": null,
            "max_height": null,
            "max_width": null,
            "min_height": null,
            "min_width": null,
            "object_fit": null,
            "object_position": null,
            "order": null,
            "overflow": null,
            "overflow_x": null,
            "overflow_y": null,
            "padding": null,
            "right": null,
            "top": null,
            "visibility": null,
            "width": null
          }
        },
        "4dd8d9f2f61c4e988c002de3e5fdaee3": {
          "model_module": "@jupyter-widgets/controls",
          "model_name": "DescriptionStyleModel",
          "model_module_version": "1.5.0",
          "state": {
            "_model_module": "@jupyter-widgets/controls",
            "_model_module_version": "1.5.0",
            "_model_name": "DescriptionStyleModel",
            "_view_count": null,
            "_view_module": "@jupyter-widgets/base",
            "_view_module_version": "1.2.0",
            "_view_name": "StyleView",
            "description_width": ""
          }
        },
        "1a14043d3c6e4fb6855d45c8e75b3b0e": {
          "model_module": "@jupyter-widgets/base",
          "model_name": "LayoutModel",
          "model_module_version": "1.2.0",
          "state": {
            "_model_module": "@jupyter-widgets/base",
            "_model_module_version": "1.2.0",
            "_model_name": "LayoutModel",
            "_view_count": null,
            "_view_module": "@jupyter-widgets/base",
            "_view_module_version": "1.2.0",
            "_view_name": "LayoutView",
            "align_content": null,
            "align_items": null,
            "align_self": null,
            "border": null,
            "bottom": null,
            "display": null,
            "flex": null,
            "flex_flow": null,
            "grid_area": null,
            "grid_auto_columns": null,
            "grid_auto_flow": null,
            "grid_auto_rows": null,
            "grid_column": null,
            "grid_gap": null,
            "grid_row": null,
            "grid_template_areas": null,
            "grid_template_columns": null,
            "grid_template_rows": null,
            "height": null,
            "justify_content": null,
            "justify_items": null,
            "left": null,
            "margin": null,
            "max_height": null,
            "max_width": null,
            "min_height": null,
            "min_width": null,
            "object_fit": null,
            "object_position": null,
            "order": null,
            "overflow": null,
            "overflow_x": null,
            "overflow_y": null,
            "padding": null,
            "right": null,
            "top": null,
            "visibility": null,
            "width": null
          }
        },
        "fd038d56a7d04516a4ded5f35738fc28": {
          "model_module": "@jupyter-widgets/controls",
          "model_name": "ProgressStyleModel",
          "model_module_version": "1.5.0",
          "state": {
            "_model_module": "@jupyter-widgets/controls",
            "_model_module_version": "1.5.0",
            "_model_name": "ProgressStyleModel",
            "_view_count": null,
            "_view_module": "@jupyter-widgets/base",
            "_view_module_version": "1.2.0",
            "_view_name": "StyleView",
            "bar_color": null,
            "description_width": ""
          }
        },
        "a7566fce58d74cc3ba6bfdf316071c44": {
          "model_module": "@jupyter-widgets/base",
          "model_name": "LayoutModel",
          "model_module_version": "1.2.0",
          "state": {
            "_model_module": "@jupyter-widgets/base",
            "_model_module_version": "1.2.0",
            "_model_name": "LayoutModel",
            "_view_count": null,
            "_view_module": "@jupyter-widgets/base",
            "_view_module_version": "1.2.0",
            "_view_name": "LayoutView",
            "align_content": null,
            "align_items": null,
            "align_self": null,
            "border": null,
            "bottom": null,
            "display": null,
            "flex": null,
            "flex_flow": null,
            "grid_area": null,
            "grid_auto_columns": null,
            "grid_auto_flow": null,
            "grid_auto_rows": null,
            "grid_column": null,
            "grid_gap": null,
            "grid_row": null,
            "grid_template_areas": null,
            "grid_template_columns": null,
            "grid_template_rows": null,
            "height": null,
            "justify_content": null,
            "justify_items": null,
            "left": null,
            "margin": null,
            "max_height": null,
            "max_width": null,
            "min_height": null,
            "min_width": null,
            "object_fit": null,
            "object_position": null,
            "order": null,
            "overflow": null,
            "overflow_x": null,
            "overflow_y": null,
            "padding": null,
            "right": null,
            "top": null,
            "visibility": null,
            "width": null
          }
        },
        "5a5bd60ebe934c10b79714f0573d5eca": {
          "model_module": "@jupyter-widgets/controls",
          "model_name": "DescriptionStyleModel",
          "model_module_version": "1.5.0",
          "state": {
            "_model_module": "@jupyter-widgets/controls",
            "_model_module_version": "1.5.0",
            "_model_name": "DescriptionStyleModel",
            "_view_count": null,
            "_view_module": "@jupyter-widgets/base",
            "_view_module_version": "1.2.0",
            "_view_name": "StyleView",
            "description_width": ""
          }
        }
      }
    }
  },
  "cells": [
    {
      "cell_type": "markdown",
      "metadata": {
        "id": "view-in-github",
        "colab_type": "text"
      },
      "source": [
        "<a href=\"https://colab.research.google.com/github/gunjak/Placement-Assignment_Gunja/blob/main/CV_que1.ipynb\" target=\"_parent\"><img src=\"https://colab.research.google.com/assets/colab-badge.svg\" alt=\"Open In Colab\"/></a>"
      ]
    },
    {
      "cell_type": "code",
      "execution_count": 1,
      "metadata": {
        "id": "VOax8K-fQ6gl"
      },
      "outputs": [],
      "source": [
        "!pip install -q kaggle"
      ]
    },
    {
      "cell_type": "code",
      "source": [
        "from google.colab import files"
      ],
      "metadata": {
        "id": "JJU6UK02RNP7"
      },
      "execution_count": 2,
      "outputs": []
    },
    {
      "cell_type": "code",
      "source": [
        "files.upload()"
      ],
      "metadata": {
        "colab": {
          "base_uri": "https://localhost:8080/",
          "height": 90
        },
        "id": "VbQEeR4-RPFo",
        "outputId": "324ab280-f7af-407f-ea14-154c28ecb165"
      },
      "execution_count": 3,
      "outputs": [
        {
          "output_type": "display_data",
          "data": {
            "text/plain": [
              "<IPython.core.display.HTML object>"
            ],
            "text/html": [
              "\n",
              "     <input type=\"file\" id=\"files-58f482e9-e8c6-4884-a6d3-ab561d1c034e\" name=\"files[]\" multiple disabled\n",
              "        style=\"border:none\" />\n",
              "     <output id=\"result-58f482e9-e8c6-4884-a6d3-ab561d1c034e\">\n",
              "      Upload widget is only available when the cell has been executed in the\n",
              "      current browser session. Please rerun this cell to enable.\n",
              "      </output>\n",
              "      <script>// Copyright 2017 Google LLC\n",
              "//\n",
              "// Licensed under the Apache License, Version 2.0 (the \"License\");\n",
              "// you may not use this file except in compliance with the License.\n",
              "// You may obtain a copy of the License at\n",
              "//\n",
              "//      http://www.apache.org/licenses/LICENSE-2.0\n",
              "//\n",
              "// Unless required by applicable law or agreed to in writing, software\n",
              "// distributed under the License is distributed on an \"AS IS\" BASIS,\n",
              "// WITHOUT WARRANTIES OR CONDITIONS OF ANY KIND, either express or implied.\n",
              "// See the License for the specific language governing permissions and\n",
              "// limitations under the License.\n",
              "\n",
              "/**\n",
              " * @fileoverview Helpers for google.colab Python module.\n",
              " */\n",
              "(function(scope) {\n",
              "function span(text, styleAttributes = {}) {\n",
              "  const element = document.createElement('span');\n",
              "  element.textContent = text;\n",
              "  for (const key of Object.keys(styleAttributes)) {\n",
              "    element.style[key] = styleAttributes[key];\n",
              "  }\n",
              "  return element;\n",
              "}\n",
              "\n",
              "// Max number of bytes which will be uploaded at a time.\n",
              "const MAX_PAYLOAD_SIZE = 100 * 1024;\n",
              "\n",
              "function _uploadFiles(inputId, outputId) {\n",
              "  const steps = uploadFilesStep(inputId, outputId);\n",
              "  const outputElement = document.getElementById(outputId);\n",
              "  // Cache steps on the outputElement to make it available for the next call\n",
              "  // to uploadFilesContinue from Python.\n",
              "  outputElement.steps = steps;\n",
              "\n",
              "  return _uploadFilesContinue(outputId);\n",
              "}\n",
              "\n",
              "// This is roughly an async generator (not supported in the browser yet),\n",
              "// where there are multiple asynchronous steps and the Python side is going\n",
              "// to poll for completion of each step.\n",
              "// This uses a Promise to block the python side on completion of each step,\n",
              "// then passes the result of the previous step as the input to the next step.\n",
              "function _uploadFilesContinue(outputId) {\n",
              "  const outputElement = document.getElementById(outputId);\n",
              "  const steps = outputElement.steps;\n",
              "\n",
              "  const next = steps.next(outputElement.lastPromiseValue);\n",
              "  return Promise.resolve(next.value.promise).then((value) => {\n",
              "    // Cache the last promise value to make it available to the next\n",
              "    // step of the generator.\n",
              "    outputElement.lastPromiseValue = value;\n",
              "    return next.value.response;\n",
              "  });\n",
              "}\n",
              "\n",
              "/**\n",
              " * Generator function which is called between each async step of the upload\n",
              " * process.\n",
              " * @param {string} inputId Element ID of the input file picker element.\n",
              " * @param {string} outputId Element ID of the output display.\n",
              " * @return {!Iterable<!Object>} Iterable of next steps.\n",
              " */\n",
              "function* uploadFilesStep(inputId, outputId) {\n",
              "  const inputElement = document.getElementById(inputId);\n",
              "  inputElement.disabled = false;\n",
              "\n",
              "  const outputElement = document.getElementById(outputId);\n",
              "  outputElement.innerHTML = '';\n",
              "\n",
              "  const pickedPromise = new Promise((resolve) => {\n",
              "    inputElement.addEventListener('change', (e) => {\n",
              "      resolve(e.target.files);\n",
              "    });\n",
              "  });\n",
              "\n",
              "  const cancel = document.createElement('button');\n",
              "  inputElement.parentElement.appendChild(cancel);\n",
              "  cancel.textContent = 'Cancel upload';\n",
              "  const cancelPromise = new Promise((resolve) => {\n",
              "    cancel.onclick = () => {\n",
              "      resolve(null);\n",
              "    };\n",
              "  });\n",
              "\n",
              "  // Wait for the user to pick the files.\n",
              "  const files = yield {\n",
              "    promise: Promise.race([pickedPromise, cancelPromise]),\n",
              "    response: {\n",
              "      action: 'starting',\n",
              "    }\n",
              "  };\n",
              "\n",
              "  cancel.remove();\n",
              "\n",
              "  // Disable the input element since further picks are not allowed.\n",
              "  inputElement.disabled = true;\n",
              "\n",
              "  if (!files) {\n",
              "    return {\n",
              "      response: {\n",
              "        action: 'complete',\n",
              "      }\n",
              "    };\n",
              "  }\n",
              "\n",
              "  for (const file of files) {\n",
              "    const li = document.createElement('li');\n",
              "    li.append(span(file.name, {fontWeight: 'bold'}));\n",
              "    li.append(span(\n",
              "        `(${file.type || 'n/a'}) - ${file.size} bytes, ` +\n",
              "        `last modified: ${\n",
              "            file.lastModifiedDate ? file.lastModifiedDate.toLocaleDateString() :\n",
              "                                    'n/a'} - `));\n",
              "    const percent = span('0% done');\n",
              "    li.appendChild(percent);\n",
              "\n",
              "    outputElement.appendChild(li);\n",
              "\n",
              "    const fileDataPromise = new Promise((resolve) => {\n",
              "      const reader = new FileReader();\n",
              "      reader.onload = (e) => {\n",
              "        resolve(e.target.result);\n",
              "      };\n",
              "      reader.readAsArrayBuffer(file);\n",
              "    });\n",
              "    // Wait for the data to be ready.\n",
              "    let fileData = yield {\n",
              "      promise: fileDataPromise,\n",
              "      response: {\n",
              "        action: 'continue',\n",
              "      }\n",
              "    };\n",
              "\n",
              "    // Use a chunked sending to avoid message size limits. See b/62115660.\n",
              "    let position = 0;\n",
              "    do {\n",
              "      const length = Math.min(fileData.byteLength - position, MAX_PAYLOAD_SIZE);\n",
              "      const chunk = new Uint8Array(fileData, position, length);\n",
              "      position += length;\n",
              "\n",
              "      const base64 = btoa(String.fromCharCode.apply(null, chunk));\n",
              "      yield {\n",
              "        response: {\n",
              "          action: 'append',\n",
              "          file: file.name,\n",
              "          data: base64,\n",
              "        },\n",
              "      };\n",
              "\n",
              "      let percentDone = fileData.byteLength === 0 ?\n",
              "          100 :\n",
              "          Math.round((position / fileData.byteLength) * 100);\n",
              "      percent.textContent = `${percentDone}% done`;\n",
              "\n",
              "    } while (position < fileData.byteLength);\n",
              "  }\n",
              "\n",
              "  // All done.\n",
              "  yield {\n",
              "    response: {\n",
              "      action: 'complete',\n",
              "    }\n",
              "  };\n",
              "}\n",
              "\n",
              "scope.google = scope.google || {};\n",
              "scope.google.colab = scope.google.colab || {};\n",
              "scope.google.colab._files = {\n",
              "  _uploadFiles,\n",
              "  _uploadFilesContinue,\n",
              "};\n",
              "})(self);\n",
              "</script> "
            ]
          },
          "metadata": {}
        },
        {
          "output_type": "stream",
          "name": "stdout",
          "text": [
            "Saving kaggle.json to kaggle.json\n"
          ]
        },
        {
          "output_type": "execute_result",
          "data": {
            "text/plain": [
              "{'kaggle.json': b'{\"username\":\"gunjakumari\",\"key\":\"fc66adebe0a688adcd9811cbfee78811\"}'}"
            ]
          },
          "metadata": {},
          "execution_count": 3
        }
      ]
    },
    {
      "cell_type": "code",
      "source": [
        "!mkdir ~/.kaggle"
      ],
      "metadata": {
        "id": "3ZkI5hnSRQ3H"
      },
      "execution_count": 4,
      "outputs": []
    },
    {
      "cell_type": "code",
      "source": [
        "! cp kaggle.json ~/.kaggle/"
      ],
      "metadata": {
        "id": "cAG5B5NCRSqV"
      },
      "execution_count": 5,
      "outputs": []
    },
    {
      "cell_type": "code",
      "source": [
        "! chmod 600 ~/.kaggle/kaggle.json"
      ],
      "metadata": {
        "id": "p5gQo71ORU1l"
      },
      "execution_count": 6,
      "outputs": []
    },
    {
      "cell_type": "code",
      "source": [
        "!kaggle datasets download -d 'misrakahmed/vegetable-image-dataset'"
      ],
      "metadata": {
        "colab": {
          "base_uri": "https://localhost:8080/"
        },
        "id": "4Hjm1-mQRbEO",
        "outputId": "f366763f-debf-4caf-d98e-11992529f993"
      },
      "execution_count": 7,
      "outputs": [
        {
          "output_type": "stream",
          "name": "stdout",
          "text": [
            "Downloading vegetable-image-dataset.zip to /content\n",
            " 98% 521M/534M [00:06<00:00, 86.2MB/s]\n",
            "100% 534M/534M [00:06<00:00, 90.9MB/s]\n"
          ]
        }
      ]
    },
    {
      "cell_type": "code",
      "source": [
        "! mkdir train\n",
        "! unzip /content/vegetable-image-dataset.zip -d train"
      ],
      "metadata": {
        "id": "OvRfC17PS75J"
      },
      "execution_count": null,
      "outputs": []
    },
    {
      "cell_type": "code",
      "source": [
        "import cv2\n",
        "image=cv2.imread('/content/train/Vegetable Images/train/Bean/0026.jpg')\n",
        "image.shape"
      ],
      "metadata": {
        "colab": {
          "base_uri": "https://localhost:8080/"
        },
        "id": "JSEL4tiTRfJm",
        "outputId": "67fecdb6-ebc5-4453-afe9-1e5be774ed63"
      },
      "execution_count": 9,
      "outputs": [
        {
          "output_type": "execute_result",
          "data": {
            "text/plain": [
              "(224, 224, 3)"
            ]
          },
          "metadata": {},
          "execution_count": 9
        }
      ]
    },
    {
      "cell_type": "code",
      "source": [
        "import os\n",
        "import torch\n",
        "import torchvision\n",
        "from torchvision.datasets.utils import download_url\n",
        "from torch.utils.data import random_split\n",
        "from torch import nn \n",
        "import albumentations as A\n",
        "from albumentations.pytorch import ToTensorV2\n",
        "from torch.utils.data.dataloader import DataLoader\n",
        "from torchvision.datasets import ImageFolder\n",
        "from torchvision.transforms import ToTensor\n",
        "from torch.utils.data import Dataset\n",
        "import random\n",
        "torch.manual_seed(0)\n",
        "from tqdm.auto import tqdm"
      ],
      "metadata": {
        "id": "FGEklKJPUIB8"
      },
      "execution_count": 10,
      "outputs": []
    },
    {
      "cell_type": "code",
      "source": [
        "train_dir='/content/train/Vegetable Images/train'\n",
        "test_dir='/content/train/Vegetable Images/test'"
      ],
      "metadata": {
        "id": "DYvHkBd9RwFt"
      },
      "execution_count": 11,
      "outputs": []
    },
    {
      "cell_type": "code",
      "source": [
        "import glob\n",
        "classes=['Bean','Bitter_Gourd','Bottle_Gourd','Brinjal','Broccoli','Cabbage',\n",
        "'Capsicum','Carrot','Cauliflower','Cucumber','Papaya','Potato','Pumpkin',\"Radish\",'Tomato']\n",
        "count=0\n",
        "train_files=[]\n",
        "while count!=15:\n",
        "  for name in glob.glob(f'{train_dir}/{classes[count]}/*'):\n",
        "    train_files.append(name)\n",
        "  count+=1\n",
        "  \n",
        "test_files=[]\n",
        "count=0\n",
        "while count!=15:\n",
        "  for name in glob.glob(f'{test_dir}/{classes[count]}/*'):\n",
        "    test_files.append(name)\n",
        "  count+=1"
      ],
      "metadata": {
        "id": "6o0nqH06Ru2u"
      },
      "execution_count": 12,
      "outputs": []
    },
    {
      "cell_type": "code",
      "source": [
        "train_files[0]"
      ],
      "metadata": {
        "colab": {
          "base_uri": "https://localhost:8080/",
          "height": 35
        },
        "id": "zvSOwN20K62j",
        "outputId": "662c041e-3fa7-4e90-9b4c-ff34cce74362"
      },
      "execution_count": 13,
      "outputs": [
        {
          "output_type": "execute_result",
          "data": {
            "text/plain": [
              "'/content/train/Vegetable Images/train/Bean/1147.jpg'"
            ],
            "application/vnd.google.colaboratory.intrinsic+json": {
              "type": "string"
            }
          },
          "metadata": {},
          "execution_count": 13
        }
      ]
    },
    {
      "cell_type": "code",
      "source": [
        "random.shuffle(train_files)"
      ],
      "metadata": {
        "id": "8CS8JryhR1ma"
      },
      "execution_count": 14,
      "outputs": []
    },
    {
      "cell_type": "code",
      "source": [
        "os.path.normpath('/content/train/Vegetable Images/train/Bean/0026.jpg').split(os.sep)[-2]"
      ],
      "metadata": {
        "colab": {
          "base_uri": "https://localhost:8080/",
          "height": 35
        },
        "id": "295Ul-2GU-OV",
        "outputId": "06862862-2b92-414a-e566-147dd90ecf30"
      },
      "execution_count": 15,
      "outputs": [
        {
          "output_type": "execute_result",
          "data": {
            "text/plain": [
              "'Bean'"
            ],
            "application/vnd.google.colaboratory.intrinsic+json": {
              "type": "string"
            }
          },
          "metadata": {},
          "execution_count": 15
        }
      ]
    },
    {
      "cell_type": "code",
      "source": [
        "class VegetablesDataset(Dataset):\n",
        "    def __init__(self, images_filepaths, transform=None):\n",
        "        self.images_filepaths = images_filepaths\n",
        "        self.transform = transform\n",
        "\n",
        "    def __len__(self):\n",
        "        return len(self.images_filepaths)\n",
        "\n",
        "    def __getitem__(self, idx):\n",
        "        image_filepath = self.images_filepaths[idx]\n",
        "        image = cv2.imread(image_filepath)\n",
        "        image = cv2.cvtColor(image, cv2.COLOR_BGR2RGB)\n",
        "        if os.path.normpath(image_filepath).split(os.sep)[-2] == classes[0]:\n",
        "            label = 0.0\n",
        "        elif os.path.normpath(image_filepath).split(os.sep)[-2] == classes[1]:\n",
        "            label = 1.0\n",
        "        elif os.path.normpath(image_filepath).split(os.sep)[-2] == classes[2]:\n",
        "            label = 2.0\n",
        "        elif os.path.normpath(image_filepath).split(os.sep)[-2] == classes[3]:\n",
        "            label = 3.0\n",
        "        elif os.path.normpath(image_filepath).split(os.sep)[-2] == classes[4]:\n",
        "            label = 4.0\n",
        "        elif os.path.normpath(image_filepath).split(os.sep)[-2] == classes[5]:\n",
        "            label = 5.0\n",
        "        elif os.path.normpath(image_filepath).split(os.sep)[-2] == classes[6]:\n",
        "            label = 6.0\n",
        "        elif os.path.normpath(image_filepath).split(os.sep)[-2] == classes[7]:\n",
        "            label = 7.0\n",
        "        elif os.path.normpath(image_filepath).split(os.sep)[-2] == classes[8]:\n",
        "            label = 8.0\n",
        "        elif os.path.normpath(image_filepath).split(os.sep)[-2] == classes[9]:\n",
        "            label = 9.0\n",
        "        elif os.path.normpath(image_filepath).split(os.sep)[-2] == classes[10]:\n",
        "            label = 10.0\n",
        "        elif os.path.normpath(image_filepath).split(os.sep)[-2] == classes[11]:\n",
        "            label = 11.0\n",
        "        elif os.path.normpath(image_filepath).split(os.sep)[-2] == classes[12]:\n",
        "            label = 12.0\n",
        "        elif os.path.normpath(image_filepath).split(os.sep)[-2] == classes[13]:\n",
        "            label = 13.0\n",
        "        elif os.path.normpath(image_filepath).split(os.sep)[-2] == classes[14]:\n",
        "            label = 14.0\n",
        "        if self.transform is not None:\n",
        "            image = self.transform(image=image)[\"image\"]\n",
        "        return image, label\n",
        "        \n",
        "correct_images_filepaths = [i for i in train_files if cv2.imread(i) is not None]\n"
      ],
      "metadata": {
        "id": "OxTWTYWhR4Qo"
      },
      "execution_count": 16,
      "outputs": []
    },
    {
      "cell_type": "code",
      "source": [
        "train_transform = A.Compose(\n",
        "    [\n",
        "        A.SmallestMaxSize(max_size=160),\n",
        "        A.ShiftScaleRotate(shift_limit=0.05, scale_limit=0.05, rotate_limit=15, p=0.5),\n",
        "        A.RandomCrop(height=128, width=128),\n",
        "        A.RGBShift(r_shift_limit=15, g_shift_limit=15, b_shift_limit=15, p=0.5),\n",
        "        A.RandomBrightnessContrast(p=0.5),\n",
        "        A.Normalize(mean=(0.485, 0.456, 0.406), std=(0.229, 0.224, 0.225)),\n",
        "        ToTensorV2(),\n",
        "    ]\n",
        ")\n",
        "test_transform = A.Compose(\n",
        "    [\n",
        "        A.RandomCrop(height=128, width=128),\n",
        "        A.RandomBrightnessContrast(p=0.5),\n",
        "        A.Normalize(mean=(0.485, 0.456, 0.406), std=(0.229, 0.224, 0.225)),\n",
        "        ToTensorV2(),\n",
        "    ]\n",
        ")\n"
      ],
      "metadata": {
        "id": "smBLZ-4MR4bY"
      },
      "execution_count": 17,
      "outputs": []
    },
    {
      "cell_type": "code",
      "source": [
        "train_dataset = VegetablesDataset(images_filepaths=train_files, transform=train_transform)\n",
        "test_dataset=VegetablesDataset(images_filepaths=test_files, transform=test_transform)"
      ],
      "metadata": {
        "id": "8E4QMwU8SGMx"
      },
      "execution_count": 18,
      "outputs": []
    },
    {
      "cell_type": "code",
      "source": [
        "val_size = 5000\n",
        "train_size = len(train_dataset) - val_size\n",
        "\n",
        "train_ds, val_ds = random_split(train_dataset, [train_size, val_size])\n",
        "len(train_ds), len(val_ds)"
      ],
      "metadata": {
        "colab": {
          "base_uri": "https://localhost:8080/"
        },
        "id": "rgHGdRuFWQpW",
        "outputId": "b4083093-3c5c-4e4c-a9de-4c45bc2d455a"
      },
      "execution_count": 19,
      "outputs": [
        {
          "output_type": "execute_result",
          "data": {
            "text/plain": [
              "(10000, 5000)"
            ]
          },
          "metadata": {},
          "execution_count": 19
        }
      ]
    },
    {
      "cell_type": "code",
      "source": [
        "params = {\n",
        "    \"device\": \"cuda\",\n",
        "    \"num_workers\": 4}\n",
        "NUM_EPOCHS = 20\n",
        "BATCH_SIZE = 32\n",
        "HIDDEN_UNITS = 10\n",
        "LEARNING_RATE = 0.001"
      ],
      "metadata": {
        "id": "iWrctKhJWUj_"
      },
      "execution_count": 20,
      "outputs": []
    },
    {
      "cell_type": "code",
      "source": [
        "train_dl = DataLoader(\n",
        "    train_ds, batch_size=BATCH_SIZE, shuffle=True, num_workers=params[\"num_workers\"], pin_memory=True,\n",
        ")\n",
        "val_dl=DataLoader(val_ds,batch_size=BATCH_SIZE, shuffle=True, num_workers=params[\"num_workers\"], pin_memory=True,)"
      ],
      "metadata": {
        "id": "yPNiKWLsWYi0",
        "colab": {
          "base_uri": "https://localhost:8080/"
        },
        "outputId": "ed5acd94-c831-4d30-dfbb-95af5146231e"
      },
      "execution_count": 21,
      "outputs": [
        {
          "output_type": "stream",
          "name": "stderr",
          "text": [
            "/usr/local/lib/python3.10/dist-packages/torch/utils/data/dataloader.py:560: UserWarning: This DataLoader will create 4 worker processes in total. Our suggested max number of worker in current system is 2, which is smaller than what this DataLoader is going to create. Please be aware that excessive worker creation might get DataLoader running slow or even freeze, lower the worker number to avoid potential slowness/freeze if necessary.\n",
            "  warnings.warn(_create_warning_msg(\n"
          ]
        }
      ]
    },
    {
      "cell_type": "code",
      "source": [
        "def get_default_device():\n",
        "    \"\"\"Pick GPU if available, else CPU\"\"\"\n",
        "    if torch.cuda.is_available():\n",
        "        return torch.device('cuda')\n",
        "    else:\n",
        "        return torch.device('cpu')\n",
        "device=get_default_device()"
      ],
      "metadata": {
        "id": "EmrsGfqzWlV8"
      },
      "execution_count": 22,
      "outputs": []
    },
    {
      "cell_type": "code",
      "source": [
        "\n",
        "class TinyVGG1(nn.Module):\n",
        "    def __init__(self, input_shape: int, output_shape: int) -> None:\n",
        "        super().__init__()\n",
        "        self.conv_block_1 = nn.Sequential(\n",
        "          nn.Conv2d(in_channels=input_shape, \n",
        "                    out_channels=32, \n",
        "                    kernel_size=3, \n",
        "                    stride=1, \n",
        "                    padding=0),  \n",
        "          nn.ReLU(),\n",
        "          nn.Conv2d(in_channels=32, \n",
        "                    out_channels=16,\n",
        "                    kernel_size=3,\n",
        "                    stride=1,\n",
        "                    padding=0),\n",
        "          nn.ReLU(),\n",
        "          nn.MaxPool2d(kernel_size=2,\n",
        "                        stride=2)\n",
        "        )\n",
        "        self.conv_block_2 = nn.Sequential(\n",
        "          nn.Conv2d(16, 16, kernel_size=3, padding=0),\n",
        "          nn.ReLU(),\n",
        "          nn.Conv2d(16, 10, kernel_size=3, padding=0),\n",
        "          nn.ReLU(),\n",
        "          nn.MaxPool2d(2)\n",
        "\n",
        "        )\n",
        "        self.classifier = nn.Sequential(\n",
        "          nn.Flatten(),\n",
        "          nn.LazyLinear(\n",
        "                    out_features=output_shape)\n",
        "        )\n",
        "    \n",
        "    def forward(self, x: torch.Tensor):\n",
        "        x = self.conv_block_1(x)\n",
        "        x = self.conv_block_2(x)\n",
        "        x = self.classifier(x)\n",
        "        return x"
      ],
      "metadata": {
        "id": "mYjTHrflWyiA"
      },
      "execution_count": 23,
      "outputs": []
    },
    {
      "cell_type": "code",
      "source": [
        "model=TinyVGG1(\n",
        "    input_shape=3,\n",
        "    output_shape=len(classes)\n",
        ").to(device)\n",
        "loss_fn = torch.nn.CrossEntropyLoss()\n",
        "optimizer = torch.optim.Adam(model.parameters(),\n",
        "                             lr=LEARNING_RATE)\n"
      ],
      "metadata": {
        "colab": {
          "base_uri": "https://localhost:8080/"
        },
        "id": "Dw7fpdLlW75F",
        "outputId": "07c9f1e9-e79c-4737-88eb-967ba6c303d3"
      },
      "execution_count": 24,
      "outputs": [
        {
          "output_type": "stream",
          "name": "stderr",
          "text": [
            "/usr/local/lib/python3.10/dist-packages/torch/nn/modules/lazy.py:180: UserWarning: Lazy modules are a new feature under heavy development so changes to the API or functionality can happen at any moment.\n",
            "  warnings.warn('Lazy modules are a new feature under heavy development '\n"
          ]
        }
      ]
    },
    {
      "cell_type": "code",
      "source": [
        "NUM_GPU = torch.cuda.device_count()\n",
        "if NUM_GPU > 1:\n",
        "\tmodel = nn.DataParallel(model)\n",
        "    \n",
        "# initialize loss function, optimizer, and gradient scaler"
      ],
      "metadata": {
        "id": "5EgwVxavl4cD"
      },
      "execution_count": 25,
      "outputs": []
    },
    {
      "cell_type": "code",
      "source": [
        "from torch.utils.tensorboard import SummaryWriter\n",
        "writer = SummaryWriter()"
      ],
      "metadata": {
        "id": "bVW7Dz-eyC3a"
      },
      "execution_count": 26,
      "outputs": []
    },
    {
      "cell_type": "code",
      "source": [
        "results = {\"train_loss\": [],\n",
        "               \"train_acc\": [],\n",
        "               \"test_loss\": [],\n",
        "               \"test_acc\": []\n",
        "    }\n",
        "for epoch in tqdm(range(10)):  \n",
        "  model.train()\n",
        "  train_loss, train_acc = 0, 0\n",
        "  for batch, (X, y) in enumerate(train_dl):\n",
        "          # Send data to target device\n",
        "    y=y.type(torch.LongTensor)\n",
        "    X, y = X.to(device), y.to(device)\n",
        "\n",
        "          # 1. Forward pass\n",
        "    y_pred = model(X)\n",
        "    \n",
        "          # 2. Calculate  and accumulate loss\n",
        "    loss = loss_fn(y_pred, y)\n",
        "    writer.add_scalar(\"Loss/train\", loss, epoch)\n",
        "    train_loss += loss.item() \n",
        "\n",
        "          # 3. Optimizer zero grad\n",
        "    optimizer.zero_grad()\n",
        "\n",
        "          # 4. Loss backward\n",
        "    loss.backward()\n",
        "\n",
        "          # 5. Optimizer step\n",
        "    optimizer.step()\n",
        "\n",
        "          # Calculate and accumulate accuracy metric across all batches\n",
        "    y_pred_class = torch.argmax(torch.softmax(y_pred, dim=1), dim=1)\n",
        "    train_acc += (y_pred_class == y).sum().item()/len(y_pred)\n",
        "\n",
        "      # Adjust metrics to get average loss and accuracy per batch \n",
        "  train_loss = train_loss / len(train_dl)\n",
        "  train_acc = train_acc / len(train_dl)\n",
        "  model.eval() \n",
        "\n",
        "    # Setup test loss and test accuracy values\n",
        "  test_loss, test_acc = 0, 0\n",
        "\n",
        "    # Turn on inference context manager\n",
        "  with torch.inference_mode():\n",
        "        # Loop through DataLoader batches\n",
        "    for batch, (X, y) in enumerate(val_dl):\n",
        "      y=y.type(torch.LongTensor)\n",
        "            # Send data to target device\n",
        "      X, y = X.to(device), y.to(device)\n",
        "\n",
        "            # 1. Forward pass\n",
        "      test_pred_logits = model(X)\n",
        "\n",
        "            # 2. Calculate and accumulate loss\n",
        "      loss = loss_fn(test_pred_logits, y)\n",
        "      test_loss += loss.item()\n",
        "\n",
        "            # Calculate and accumulate accuracy\n",
        "      test_pred_labels = test_pred_logits.argmax(dim=1)\n",
        "      test_acc += ((test_pred_labels == y).sum().item()/len(test_pred_labels))\n",
        "\n",
        "    # Adjust metrics to get average loss and accuracy per batch \n",
        "  test_loss = test_loss / len(val_dl)\n",
        "  test_acc = test_acc / len(val_dl)\n",
        "  print(\n",
        "          f\"Epoch: {epoch+1} | \"\n",
        "          f\"train_loss: {train_loss:.4f} | \"\n",
        "          f\"train_acc: {train_acc:.4f} | \"\n",
        "          f\"test_loss: {test_loss:.4f} | \"\n",
        "          f\"test_acc: {test_acc:.4f}\"\n",
        "        )\n",
        "\n",
        "        # Update results dictionary\n",
        "  results[\"train_loss\"].append(train_loss)\n",
        "  results[\"train_acc\"].append(train_acc)\n",
        "  results[\"test_loss\"].append(test_loss)\n",
        "  results[\"test_acc\"].append(test_acc)\n",
        "  \n",
        "writer.flush()\n",
        "\n",
        "    "
      ],
      "metadata": {
        "colab": {
          "base_uri": "https://localhost:8080/",
          "height": 277,
          "referenced_widgets": [
            "8309db8fe2f2460e85916c1a6e99ed5c",
            "6ba19a51215b4f158b98814c3d894099",
            "df1f6751d49345bc9ae31b763f86eea3",
            "671a15f4cf1e4fdb84982ef49e956bdd",
            "4a71804d3f344b78b3c7450c4abf3542",
            "1afb904364414334b9b98876779098ed",
            "4dd8d9f2f61c4e988c002de3e5fdaee3",
            "1a14043d3c6e4fb6855d45c8e75b3b0e",
            "fd038d56a7d04516a4ded5f35738fc28",
            "a7566fce58d74cc3ba6bfdf316071c44",
            "5a5bd60ebe934c10b79714f0573d5eca"
          ]
        },
        "id": "veNWTLc9XAJX",
        "outputId": "43f43cd4-b621-4a74-cc91-40971f47ab3d"
      },
      "execution_count": 27,
      "outputs": [
        {
          "output_type": "display_data",
          "data": {
            "text/plain": [
              "  0%|          | 0/10 [00:00<?, ?it/s]"
            ],
            "application/vnd.jupyter.widget-view+json": {
              "version_major": 2,
              "version_minor": 0,
              "model_id": "8309db8fe2f2460e85916c1a6e99ed5c"
            }
          },
          "metadata": {}
        },
        {
          "output_type": "stream",
          "name": "stderr",
          "text": [
            "/usr/local/lib/python3.10/dist-packages/torch/utils/data/dataloader.py:560: UserWarning: This DataLoader will create 4 worker processes in total. Our suggested max number of worker in current system is 2, which is smaller than what this DataLoader is going to create. Please be aware that excessive worker creation might get DataLoader running slow or even freeze, lower the worker number to avoid potential slowness/freeze if necessary.\n",
            "  warnings.warn(_create_warning_msg(\n"
          ]
        },
        {
          "output_type": "stream",
          "name": "stdout",
          "text": [
            "Epoch: 1 | train_loss: 1.7489 | train_acc: 0.4185 | test_loss: 1.2785 | test_acc: 0.5818\n",
            "Epoch: 2 | train_loss: 1.1345 | train_acc: 0.6308 | test_loss: 1.0456 | test_acc: 0.6559\n",
            "Epoch: 3 | train_loss: 0.9267 | train_acc: 0.7005 | test_loss: 0.8813 | test_acc: 0.7140\n",
            "Epoch: 4 | train_loss: 0.7965 | train_acc: 0.7411 | test_loss: 0.7863 | test_acc: 0.7305\n",
            "Epoch: 5 | train_loss: 0.7339 | train_acc: 0.7571 | test_loss: 0.7381 | test_acc: 0.7532\n",
            "Epoch: 6 | train_loss: 0.6753 | train_acc: 0.7735 | test_loss: 0.6984 | test_acc: 0.7773\n",
            "Epoch: 7 | train_loss: 0.6124 | train_acc: 0.7981 | test_loss: 0.6429 | test_acc: 0.7874\n",
            "Epoch: 8 | train_loss: 0.5774 | train_acc: 0.8179 | test_loss: 0.5685 | test_acc: 0.8189\n",
            "Epoch: 9 | train_loss: 0.5532 | train_acc: 0.8189 | test_loss: 0.5638 | test_acc: 0.8213\n",
            "Epoch: 10 | train_loss: 0.5267 | train_acc: 0.8284 | test_loss: 0.5536 | test_acc: 0.8205\n"
          ]
        }
      ]
    },
    {
      "cell_type": "code",
      "source": [
        "torch.save(model.state_dict(),'model_script.pt')\n",
        "model = TinyVGG1(3,15)\n",
        "model.load_state_dict(torch.load('model_script.pt'))\n",
        "model.to(device)"
      ],
      "metadata": {
        "colab": {
          "base_uri": "https://localhost:8080/"
        },
        "id": "DrVCV8e8JV8M",
        "outputId": "c37a538c-a241-4eb4-927a-2c7d8a85734f"
      },
      "execution_count": 28,
      "outputs": [
        {
          "output_type": "stream",
          "name": "stderr",
          "text": [
            "/usr/local/lib/python3.10/dist-packages/torch/nn/modules/lazy.py:180: UserWarning: Lazy modules are a new feature under heavy development so changes to the API or functionality can happen at any moment.\n",
            "  warnings.warn('Lazy modules are a new feature under heavy development '\n"
          ]
        },
        {
          "output_type": "execute_result",
          "data": {
            "text/plain": [
              "TinyVGG1(\n",
              "  (conv_block_1): Sequential(\n",
              "    (0): Conv2d(3, 32, kernel_size=(3, 3), stride=(1, 1))\n",
              "    (1): ReLU()\n",
              "    (2): Conv2d(32, 16, kernel_size=(3, 3), stride=(1, 1))\n",
              "    (3): ReLU()\n",
              "    (4): MaxPool2d(kernel_size=2, stride=2, padding=0, dilation=1, ceil_mode=False)\n",
              "  )\n",
              "  (conv_block_2): Sequential(\n",
              "    (0): Conv2d(16, 16, kernel_size=(3, 3), stride=(1, 1))\n",
              "    (1): ReLU()\n",
              "    (2): Conv2d(16, 10, kernel_size=(3, 3), stride=(1, 1))\n",
              "    (3): ReLU()\n",
              "    (4): MaxPool2d(kernel_size=2, stride=2, padding=0, dilation=1, ceil_mode=False)\n",
              "  )\n",
              "  (classifier): Sequential(\n",
              "    (0): Flatten(start_dim=1, end_dim=-1)\n",
              "    (1): LazyLinear(in_features=0, out_features=15, bias=True)\n",
              "  )\n",
              ")"
            ]
          },
          "metadata": {},
          "execution_count": 28
        }
      ]
    },
    {
      "cell_type": "code",
      "source": [
        "test_images_filepaths=['/content/train/Vegetable Images/test/Broccoli/1001.jpg','/content/train/Vegetable Images/test/Cabbage/1201.jpg']\n",
        "class VegetablesInfDataset(Dataset):\n",
        "    def __init__(self, images_filepaths, transform=None):\n",
        "        self.images_filepaths = images_filepaths\n",
        "        self.transform = transform\n",
        "\n",
        "    def __len__(self):\n",
        "        return len(self.images_filepaths)\n",
        "\n",
        "    def __getitem__(self, idx):\n",
        "        image_filepath = self.images_filepaths[idx]\n",
        "        image = cv2.imread(image_filepath)\n",
        "        image = cv2.cvtColor(image, cv2.COLOR_BGR2RGB)\n",
        "        if self.transform is not None:\n",
        "            image = self.transform(image=image)[\"image\"]\n",
        "        return image\n",
        "t_dataset=VegetablesInfDataset(images_filepaths=test_images_filepaths,transform=test_transform)\n",
        "t_loader = DataLoader(\n",
        "    t_dataset, batch_size=1 ,shuffle=False, num_workers=params[\"num_workers\"], pin_memory=True,\n",
        ")"
      ],
      "metadata": {
        "colab": {
          "base_uri": "https://localhost:8080/"
        },
        "id": "Q29GWXCCDumN",
        "outputId": "b2f8a5e2-30dc-4ac3-d67d-dee6b03b40de"
      },
      "execution_count": 29,
      "outputs": [
        {
          "output_type": "stream",
          "name": "stderr",
          "text": [
            "/usr/local/lib/python3.10/dist-packages/torch/utils/data/dataloader.py:560: UserWarning: This DataLoader will create 4 worker processes in total. Our suggested max number of worker in current system is 2, which is smaller than what this DataLoader is going to create. Please be aware that excessive worker creation might get DataLoader running slow or even freeze, lower the worker number to avoid potential slowness/freeze if necessary.\n",
            "  warnings.warn(_create_warning_msg(\n"
          ]
        }
      ]
    },
    {
      "cell_type": "code",
      "source": [
        "dic=['Bean','Bitter_Gourd','Bottle_Gourd','Brinjal','Broccoli','Cabbage','Capsicum','Carrot','Cauliflower','Cucumber','Papaya','Potato','Pumpkin','Radish','Tomato']\n",
        "model = model.eval()\n",
        "predicted_labels = []\n",
        "with torch.no_grad():\n",
        "    for batch, images in enumerate(t_loader):\n",
        "        images = images.to(device)\n",
        "        test_pred_logits = model(images)\n",
        "        pred_labels_and_probs = {dic[i]: float(test_pred_logits[0][i]) for i in range(len(dic))}\n",
        "        test_pred_labels = test_pred_logits.argmax(dim=1)\n",
        "        print(dic[test_pred_logits.cpu().data.numpy().argmax()])"
      ],
      "metadata": {
        "colab": {
          "base_uri": "https://localhost:8080/"
        },
        "id": "m8CtHMglF_Z6",
        "outputId": "24189b38-d9b6-4fcc-b24d-551aa50da320"
      },
      "execution_count": 30,
      "outputs": [
        {
          "output_type": "stream",
          "name": "stdout",
          "text": [
            "Broccoli\n",
            "Cabbage\n"
          ]
        }
      ]
    }
  ]
}