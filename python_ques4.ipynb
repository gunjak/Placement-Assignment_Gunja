{
  "nbformat": 4,
  "nbformat_minor": 0,
  "metadata": {
    "colab": {
      "provenance": [],
      "authorship_tag": "ABX9TyPStvM26+Ao83T9HZOTkOmA",
      "include_colab_link": true
    },
    "kernelspec": {
      "name": "python3",
      "display_name": "Python 3"
    },
    "language_info": {
      "name": "python"
    }
  },
  "cells": [
    {
      "cell_type": "markdown",
      "metadata": {
        "id": "view-in-github",
        "colab_type": "text"
      },
      "source": [
        "<a href=\"https://colab.research.google.com/github/gunjak/Placement-Assignment_Gunja/blob/main/python_ques4.ipynb\" target=\"_parent\"><img src=\"https://colab.research.google.com/assets/colab-badge.svg\" alt=\"Open In Colab\"/></a>"
      ]
    },
    {
      "cell_type": "code",
      "execution_count": 5,
      "metadata": {
        "colab": {
          "base_uri": "https://localhost:8080/",
          "height": 35
        },
        "id": "TrjD4aqUvZ-0",
        "outputId": "bbae795b-7cae-47cc-8d8e-969d45c2373b"
      },
      "outputs": [
        {
          "output_type": "execute_result",
          "data": {
            "text/plain": [
              "'saved to nasa_data.csv'"
            ],
            "application/vnd.google.colaboratory.intrinsic+json": {
              "type": "string"
            }
          },
          "metadata": {},
          "execution_count": 5
        }
      ],
      "source": [
        "# python 4\n",
        "import pandas as pd\n",
        "from json import loads,dumps\n",
        "def nasa_json_data(link,to_file):\n",
        "  try:\n",
        "    df=pd.read_json(link)\n",
        "    j=df.to_json()\n",
        "    j=loads(j)\n",
        "    geo=pd.DataFrame.from_records(j['geolocation']).T.reset_index()\n",
        "    data=pd.concat([df[['name','id','nametype','recclass','mass','year','reclat','reclong']],geo[['coordinates']]],axis=1)\n",
        "    data.to_csv(f'{to_file}.csv',index=False)\n",
        "    return f'saved to {to_file}.csv'\n",
        "  except:\n",
        "    print('error')\n",
        "\n",
        "\n",
        "nasa_json_data('https://data.nasa.gov/resource/y77d-th95.json','nasa_data')\n",
        "\n"
      ]
    }
  ]
}