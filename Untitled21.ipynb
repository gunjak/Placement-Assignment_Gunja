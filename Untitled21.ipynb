{
  "nbformat": 4,
  "nbformat_minor": 0,
  "metadata": {
    "colab": {
      "provenance": [],
      "authorship_tag": "ABX9TyPLCaFlvzlAVmYtTo39b0yI",
      "include_colab_link": true
    },
    "kernelspec": {
      "name": "python3",
      "display_name": "Python 3"
    },
    "language_info": {
      "name": "python"
    }
  },
  "cells": [
    {
      "cell_type": "markdown",
      "metadata": {
        "id": "view-in-github",
        "colab_type": "text"
      },
      "source": [
        "<a href=\"https://colab.research.google.com/github/gunjak/Placement-Assignment_Gunja/blob/main/Untitled21.ipynb\" target=\"_parent\"><img src=\"https://colab.research.google.com/assets/colab-badge.svg\" alt=\"Open In Colab\"/></a>"
      ]
    },
    {
      "cell_type": "code",
      "execution_count": 1,
      "metadata": {
        "colab": {
          "base_uri": "https://localhost:8080/"
        },
        "id": "w3Fb2TLiaKX5",
        "outputId": "24893896-c9f2-45c6-da0f-95a1392d37b2"
      },
      "outputs": [
        {
          "output_type": "execute_result",
          "data": {
            "text/plain": [
              "[2, 6, 4]"
            ]
          },
          "metadata": {},
          "execution_count": 1
        }
      ],
      "source": [
        "def fun1(lis:list)->list:\n",
        "  try:\n",
        "    return [i for i in lis if i%2==0]\n",
        "  except:\n",
        "    print('error input')\n",
        "#test case\n",
        "fun1([2,3,5,6,4])"
      ]
    },
    {
      "cell_type": "code",
      "source": [],
      "metadata": {
        "id": "h52mJKqka8Wt"
      },
      "execution_count": null,
      "outputs": []
    }
  ]
}