{
  "nbformat": 4,
  "nbformat_minor": 0,
  "metadata": {
    "colab": {
      "provenance": [],
      "authorship_tag": "ABX9TyOa1qwIUKrCRkAFu3345G7C",
      "include_colab_link": true
    },
    "kernelspec": {
      "name": "python3",
      "display_name": "Python 3"
    },
    "language_info": {
      "name": "python"
    }
  },
  "cells": [
    {
      "cell_type": "markdown",
      "metadata": {
        "id": "view-in-github",
        "colab_type": "text"
      },
      "source": [
        "<a href=\"https://colab.research.google.com/github/gunjak/Placement-Assignment_Gunja/blob/main/python_ques2.ipynb\" target=\"_parent\"><img src=\"https://colab.research.google.com/assets/colab-badge.svg\" alt=\"Open In Colab\"/></a>"
      ]
    },
    {
      "cell_type": "code",
      "execution_count": 1,
      "metadata": {
        "colab": {
          "base_uri": "https://localhost:8080/"
        },
        "id": "TrjD4aqUvZ-0",
        "outputId": "e1cb107f-06ee-4135-85df-6fbb9638159c"
      },
      "outputs": [
        {
          "output_type": "stream",
          "name": "stdout",
          "text": [
            "yes\n",
            "no\n"
          ]
        }
      ],
      "source": [
        "# python 2\n",
        "from collections import Counter\n",
        "def valid_or_not(st:str)->str:\n",
        "  d=Counter(st)\n",
        "  if len(set(d.values()))==1:\n",
        "    return 'yes'\n",
        "  elif len(set(d.values()))==2:\n",
        "    a=Counter(d.values())\n",
        "    if 1 in d.values():\n",
        "      return 'yes'\n",
        "    elif a[max(d.values())]==1 and max(d.values())-min(d.values()):\n",
        "      return 'yes'\n",
        "    else:\n",
        "      return 'no'\n",
        "  else:\n",
        "    return 'no'\n",
        "\n",
        "\n",
        "#Test case 1\n",
        "print(valid_or_not('abbbccc'))   \n",
        "#Test case 2\n",
        "print(valid_or_not('abbccb')) "
      ]
    }
  ]
}